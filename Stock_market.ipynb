{
 "cells": [
  {
   "cell_type": "markdown",
   "id": "6a847bda",
   "metadata": {},
   "source": [
    "# Прогнозирование цены финансовых инструментов. Построение модели нейронный сети "
   ]
  },
  {
   "cell_type": "markdown",
   "id": "58ea7e15",
   "metadata": {},
   "source": [
    "На первом этапе производится загрузка необходимых для работы стандартных библиотек"
   ]
  },
  {
   "cell_type": "code",
   "execution_count": 1,
   "id": "23a78ea1",
   "metadata": {},
   "outputs": [
    {
     "name": "stderr",
     "output_type": "stream",
     "text": [
      "2022-07-05 04:35:39.806671: W tensorflow/stream_executor/platform/default/dso_loader.cc:64] Could not load dynamic library 'libcudart.so.11.0'; dlerror: libcudart.so.11.0: cannot open shared object file: No such file or directory\n",
      "2022-07-05 04:35:39.806697: I tensorflow/stream_executor/cuda/cudart_stub.cc:29] Ignore above cudart dlerror if you do not have a GPU set up on your machine.\n"
     ]
    }
   ],
   "source": [
    "import pandas as pd\n",
    "import numpy as np\n",
    "\n",
    "import sklearn.model_selection\n",
    "import sklearn.metrics\n",
    "\n",
    "import tensorflow as tf\n",
    "import keras.layers\n",
    "import keras.models\n",
    "import keras.callbacks\n",
    "\n",
    "from sklearn.preprocessing import MinMaxScaler\n",
    "from keras.models import Sequential, load_model\n",
    "from keras.layers import LSTM, Dense, Dropout"
   ]
  },
  {
   "cell_type": "markdown",
   "id": "750a6b40",
   "metadata": {},
   "source": [
    "## Импорт данных "
   ]
  },
  {
   "cell_type": "markdown",
   "id": "7521d718",
   "metadata": {},
   "source": [
    "Вторым этапом проводится импорт данных и объединение таблиц в одну. Основная объединенная таблица, содержащая в себе все имеющиеся данные, сохранена в переменной df. "
   ]
  },
  {
   "cell_type": "code",
   "execution_count": 2,
   "id": "8e71a49d",
   "metadata": {},
   "outputs": [],
   "source": [
    "df = pd.concat(map(pd.read_csv, ['03.06.2022.csv', '06.06.2022.csv', '07.06.2022.csv', '15.06.2022.csv', '19.05.2022.csv', '20.05.2022.csv', '21.06.2022.csv', '23.05.2022.csv', '23.06.2022.csv', '24.05.2022.csv', '25.05.2022.csv']))\n"
   ]
  },
  {
   "cell_type": "markdown",
   "id": "eb221658",
   "metadata": {},
   "source": [
    "## Рассмотрение имеющихся данных "
   ]
  },
  {
   "cell_type": "markdown",
   "id": "85cb0571",
   "metadata": {},
   "source": [
    "До построения модели необходимо рессмотреть детали имеющегося наора данных. В первую очередь на экран выведен объем набора данных. Имеющийся набор данных состоит из 1 544 865 строк и 7 слолбцов (включая столбец с нумерацией): "
   ]
  },
  {
   "cell_type": "code",
   "execution_count": 3,
   "id": "0889e50c",
   "metadata": {},
   "outputs": [
    {
     "data": {
      "text/plain": [
       "(1544865, 7)"
      ]
     },
     "execution_count": 3,
     "metadata": {},
     "output_type": "execute_result"
    }
   ],
   "source": [
    "df.shape"
   ]
  },
  {
   "cell_type": "markdown",
   "id": "283e7094",
   "metadata": {},
   "source": [
    "Далее выведен фрагмент объединенной таблицы и шапка таблицы для визуального обзора:  "
   ]
  },
  {
   "cell_type": "code",
   "execution_count": 4,
   "id": "8104dcd6",
   "metadata": {},
   "outputs": [
    {
     "data": {
      "text/html": [
       "<div>\n",
       "<style scoped>\n",
       "    .dataframe tbody tr th:only-of-type {\n",
       "        vertical-align: middle;\n",
       "    }\n",
       "\n",
       "    .dataframe tbody tr th {\n",
       "        vertical-align: top;\n",
       "    }\n",
       "\n",
       "    .dataframe thead th {\n",
       "        text-align: right;\n",
       "    }\n",
       "</style>\n",
       "<table border=\"1\" class=\"dataframe\">\n",
       "  <thead>\n",
       "    <tr style=\"text-align: right;\">\n",
       "      <th></th>\n",
       "      <th>Unnamed: 0</th>\n",
       "      <th>trade_date</th>\n",
       "      <th>trade_time</th>\n",
       "      <th>shares_bid</th>\n",
       "      <th>bid</th>\n",
       "      <th>ask</th>\n",
       "      <th>shares_ask</th>\n",
       "    </tr>\n",
       "  </thead>\n",
       "  <tbody>\n",
       "    <tr>\n",
       "      <th>0</th>\n",
       "      <td>0</td>\n",
       "      <td>2022-06-03</td>\n",
       "      <td>15:59:56</td>\n",
       "      <td>8.0</td>\n",
       "      <td>5.82</td>\n",
       "      <td>5.83</td>\n",
       "      <td>1600.0</td>\n",
       "    </tr>\n",
       "    <tr>\n",
       "      <th>1</th>\n",
       "      <td>1</td>\n",
       "      <td>2022-06-03</td>\n",
       "      <td>15:59:56</td>\n",
       "      <td>100.0</td>\n",
       "      <td>5.82</td>\n",
       "      <td>5.83</td>\n",
       "      <td>1404.0</td>\n",
       "    </tr>\n",
       "    <tr>\n",
       "      <th>2</th>\n",
       "      <td>2</td>\n",
       "      <td>2022-06-03</td>\n",
       "      <td>15:59:56</td>\n",
       "      <td>900.0</td>\n",
       "      <td>5.82</td>\n",
       "      <td>5.83</td>\n",
       "      <td>100.0</td>\n",
       "    </tr>\n",
       "    <tr>\n",
       "      <th>3</th>\n",
       "      <td>3</td>\n",
       "      <td>2022-06-03</td>\n",
       "      <td>15:59:56</td>\n",
       "      <td>100.0</td>\n",
       "      <td>5.82</td>\n",
       "      <td>5.83</td>\n",
       "      <td>32.0</td>\n",
       "    </tr>\n",
       "    <tr>\n",
       "      <th>4</th>\n",
       "      <td>4</td>\n",
       "      <td>2022-06-03</td>\n",
       "      <td>15:59:56</td>\n",
       "      <td>700.0</td>\n",
       "      <td>5.81</td>\n",
       "      <td>5.83</td>\n",
       "      <td>4.0</td>\n",
       "    </tr>\n",
       "    <tr>\n",
       "      <th>...</th>\n",
       "      <td>...</td>\n",
       "      <td>...</td>\n",
       "      <td>...</td>\n",
       "      <td>...</td>\n",
       "      <td>...</td>\n",
       "      <td>...</td>\n",
       "      <td>...</td>\n",
       "    </tr>\n",
       "    <tr>\n",
       "      <th>147877</th>\n",
       "      <td>147877</td>\n",
       "      <td>2022-05-25</td>\n",
       "      <td>09:30:01</td>\n",
       "      <td>100.0</td>\n",
       "      <td>5.41</td>\n",
       "      <td>6.27</td>\n",
       "      <td>100.0</td>\n",
       "    </tr>\n",
       "    <tr>\n",
       "      <th>147878</th>\n",
       "      <td>147878</td>\n",
       "      <td>2022-05-25</td>\n",
       "      <td>09:30:01</td>\n",
       "      <td>100.0</td>\n",
       "      <td>5.38</td>\n",
       "      <td>6.28</td>\n",
       "      <td>100.0</td>\n",
       "    </tr>\n",
       "    <tr>\n",
       "      <th>147879</th>\n",
       "      <td>147879</td>\n",
       "      <td>2022-05-25</td>\n",
       "      <td>09:30:01</td>\n",
       "      <td>100.0</td>\n",
       "      <td>5.34</td>\n",
       "      <td>6.31</td>\n",
       "      <td>100.0</td>\n",
       "    </tr>\n",
       "    <tr>\n",
       "      <th>147880</th>\n",
       "      <td>147880</td>\n",
       "      <td>2022-05-25</td>\n",
       "      <td>09:30:01</td>\n",
       "      <td>100.0</td>\n",
       "      <td>5.26</td>\n",
       "      <td>6.35</td>\n",
       "      <td>100.0</td>\n",
       "    </tr>\n",
       "    <tr>\n",
       "      <th>147881</th>\n",
       "      <td>147881</td>\n",
       "      <td>2022-05-25</td>\n",
       "      <td>09:30:01</td>\n",
       "      <td>NaN</td>\n",
       "      <td>NaN</td>\n",
       "      <td>NaN</td>\n",
       "      <td>NaN</td>\n",
       "    </tr>\n",
       "  </tbody>\n",
       "</table>\n",
       "<p>1544865 rows × 7 columns</p>\n",
       "</div>"
      ],
      "text/plain": [
       "        Unnamed: 0  trade_date trade_time  shares_bid   bid   ask  shares_ask\n",
       "0                0  2022-06-03   15:59:56         8.0  5.82  5.83      1600.0\n",
       "1                1  2022-06-03   15:59:56       100.0  5.82  5.83      1404.0\n",
       "2                2  2022-06-03   15:59:56       900.0  5.82  5.83       100.0\n",
       "3                3  2022-06-03   15:59:56       100.0  5.82  5.83        32.0\n",
       "4                4  2022-06-03   15:59:56       700.0  5.81  5.83         4.0\n",
       "...            ...         ...        ...         ...   ...   ...         ...\n",
       "147877      147877  2022-05-25   09:30:01       100.0  5.41  6.27       100.0\n",
       "147878      147878  2022-05-25   09:30:01       100.0  5.38  6.28       100.0\n",
       "147879      147879  2022-05-25   09:30:01       100.0  5.34  6.31       100.0\n",
       "147880      147880  2022-05-25   09:30:01       100.0  5.26  6.35       100.0\n",
       "147881      147881  2022-05-25   09:30:01         NaN   NaN   NaN         NaN\n",
       "\n",
       "[1544865 rows x 7 columns]"
      ]
     },
     "execution_count": 4,
     "metadata": {},
     "output_type": "execute_result"
    }
   ],
   "source": [
    "df"
   ]
  },
  {
   "cell_type": "markdown",
   "id": "603dd85f",
   "metadata": {},
   "source": [
    "Ниже представлен более детальный обзор набора данных, где указан тап данных в каждым столбце, количество ненулевых переменных, объем памяти, занимаемый данными.  Из обзора видно, что в объединенной таблице имеются пропуски данных и имеются нечисловые значения. Для дальнейшего построения, обучения и тестирования модели глубокой нейронной сети это может быть критично, так как в основном модели работают только с числовыми значениями и без пропусков данных. Чистка данных будет производиться в следующем подразделе после изучения объединенной таблицы. "
   ]
  },
  {
   "cell_type": "code",
   "execution_count": 6,
   "id": "c00b2dfd",
   "metadata": {},
   "outputs": [
    {
     "name": "stdout",
     "output_type": "stream",
     "text": [
      "<class 'pandas.core.frame.DataFrame'>\n",
      "Int64Index: 1544865 entries, 0 to 147881\n",
      "Data columns (total 7 columns):\n",
      " #   Column      Non-Null Count    Dtype  \n",
      "---  ------      --------------    -----  \n",
      " 0   Unnamed: 0  1544865 non-null  int64  \n",
      " 1   trade_date  1544865 non-null  object \n",
      " 2   trade_time  1544865 non-null  object \n",
      " 3   shares_bid  1471300 non-null  float64\n",
      " 4   bid         1471300 non-null  float64\n",
      " 5   ask         1471300 non-null  float64\n",
      " 6   shares_ask  1471300 non-null  float64\n",
      "dtypes: float64(4), int64(1), object(2)\n",
      "memory usage: 94.3+ MB\n"
     ]
    }
   ],
   "source": [
    "df.info()"
   ]
  },
  {
   "cell_type": "markdown",
   "id": "08c69188",
   "metadata": {},
   "source": [
    "Сразу будет логично посмотреть количество пропущенных значений в наборе данных: "
   ]
  },
  {
   "cell_type": "code",
   "execution_count": 8,
   "id": "d42599f2",
   "metadata": {},
   "outputs": [
    {
     "data": {
      "text/plain": [
       "Unnamed: 0        0\n",
       "trade_date        0\n",
       "trade_time        0\n",
       "shares_bid    73565\n",
       "bid           73565\n",
       "ask           73565\n",
       "shares_ask    73565\n",
       "dtype: int64"
      ]
     },
     "execution_count": 8,
     "metadata": {},
     "output_type": "execute_result"
    }
   ],
   "source": [
    "df.isnull().sum()"
   ]
  },
  {
   "cell_type": "markdown",
   "id": "529cedb6",
   "metadata": {},
   "source": [
    "Далее проведен небольшой анализ по имеющимся взаимосвязям между числовыми переменными в колонках набора данных (корреляция) с переменной \"Ask\", котороая является целевой переменной для предсказаний цены финансового инструмента. Из анализа видно, что наиболее существенная связь у переменной \"Ask\" наблюдается с переменной \"bid\": "
   ]
  },
  {
   "cell_type": "code",
   "execution_count": 5,
   "id": "22ce1aba",
   "metadata": {},
   "outputs": [
    {
     "data": {
      "text/plain": [
       "ask           1.000000\n",
       "bid           0.992826\n",
       "Unnamed: 0    0.111023\n",
       "shares_ask   -0.002451\n",
       "shares_bid   -0.014422\n",
       "Name: ask, dtype: float64"
      ]
     },
     "execution_count": 5,
     "metadata": {},
     "output_type": "execute_result"
    }
   ],
   "source": [
    "df[df.columns[:]].corr()['ask'][:].sort_values(ascending=False)"
   ]
  },
  {
   "cell_type": "markdown",
   "id": "3c41b595",
   "metadata": {},
   "source": [
    "В завершение подраздела по изучению набора данных приведена таблица с основными статистическими показателями переменных: минимиум (min), макимум (max), среднее (mean), стандартное отлонение(std), общее количсетво (count)  и  показатели с учетом процентного соотношения: "
   ]
  },
  {
   "cell_type": "code",
   "execution_count": 7,
   "id": "f4d01c04",
   "metadata": {},
   "outputs": [
    {
     "data": {
      "text/html": [
       "<div>\n",
       "<style scoped>\n",
       "    .dataframe tbody tr th:only-of-type {\n",
       "        vertical-align: middle;\n",
       "    }\n",
       "\n",
       "    .dataframe tbody tr th {\n",
       "        vertical-align: top;\n",
       "    }\n",
       "\n",
       "    .dataframe thead th {\n",
       "        text-align: right;\n",
       "    }\n",
       "</style>\n",
       "<table border=\"1\" class=\"dataframe\">\n",
       "  <thead>\n",
       "    <tr style=\"text-align: right;\">\n",
       "      <th></th>\n",
       "      <th>Unnamed: 0</th>\n",
       "      <th>shares_bid</th>\n",
       "      <th>bid</th>\n",
       "      <th>ask</th>\n",
       "      <th>shares_ask</th>\n",
       "    </tr>\n",
       "  </thead>\n",
       "  <tbody>\n",
       "    <tr>\n",
       "      <th>count</th>\n",
       "      <td>1544865.0</td>\n",
       "      <td>1471300.0</td>\n",
       "      <td>1471300.0</td>\n",
       "      <td>1471300.0</td>\n",
       "      <td>1471300.0</td>\n",
       "    </tr>\n",
       "    <tr>\n",
       "      <th>mean</th>\n",
       "      <td>71353.5</td>\n",
       "      <td>191.4</td>\n",
       "      <td>5.9</td>\n",
       "      <td>5.9</td>\n",
       "      <td>174.0</td>\n",
       "    </tr>\n",
       "    <tr>\n",
       "      <th>std</th>\n",
       "      <td>42509.8</td>\n",
       "      <td>312.6</td>\n",
       "      <td>0.3</td>\n",
       "      <td>0.3</td>\n",
       "      <td>316.0</td>\n",
       "    </tr>\n",
       "    <tr>\n",
       "      <th>min</th>\n",
       "      <td>0.0</td>\n",
       "      <td>1.0</td>\n",
       "      <td>4.7</td>\n",
       "      <td>5.0</td>\n",
       "      <td>1.0</td>\n",
       "    </tr>\n",
       "    <tr>\n",
       "      <th>25%</th>\n",
       "      <td>35110.0</td>\n",
       "      <td>100.0</td>\n",
       "      <td>5.8</td>\n",
       "      <td>5.8</td>\n",
       "      <td>100.0</td>\n",
       "    </tr>\n",
       "    <tr>\n",
       "      <th>50%</th>\n",
       "      <td>70221.0</td>\n",
       "      <td>100.0</td>\n",
       "      <td>5.9</td>\n",
       "      <td>5.9</td>\n",
       "      <td>100.0</td>\n",
       "    </tr>\n",
       "    <tr>\n",
       "      <th>75%</th>\n",
       "      <td>105331.0</td>\n",
       "      <td>200.0</td>\n",
       "      <td>6.2</td>\n",
       "      <td>6.2</td>\n",
       "      <td>100.0</td>\n",
       "    </tr>\n",
       "    <tr>\n",
       "      <th>max</th>\n",
       "      <td>168251.0</td>\n",
       "      <td>8900.0</td>\n",
       "      <td>6.5</td>\n",
       "      <td>6.8</td>\n",
       "      <td>20700.0</td>\n",
       "    </tr>\n",
       "  </tbody>\n",
       "</table>\n",
       "</div>"
      ],
      "text/plain": [
       "       Unnamed: 0  shares_bid        bid        ask  shares_ask\n",
       "count   1544865.0   1471300.0  1471300.0  1471300.0   1471300.0\n",
       "mean      71353.5       191.4        5.9        5.9       174.0\n",
       "std       42509.8       312.6        0.3        0.3       316.0\n",
       "min           0.0         1.0        4.7        5.0         1.0\n",
       "25%       35110.0       100.0        5.8        5.8       100.0\n",
       "50%       70221.0       100.0        5.9        5.9       100.0\n",
       "75%      105331.0       200.0        6.2        6.2       100.0\n",
       "max      168251.0      8900.0        6.5        6.8     20700.0"
      ]
     },
     "execution_count": 7,
     "metadata": {},
     "output_type": "execute_result"
    }
   ],
   "source": [
    "df.describe().round(1)"
   ]
  },
  {
   "cell_type": "markdown",
   "id": "db56dd54",
   "metadata": {},
   "source": [
    "## Чистка данных "
   ]
  },
  {
   "cell_type": "markdown",
   "id": "448bad20",
   "metadata": {},
   "source": [
    "В подразделе по чистке данных в первую очередь избавимся от ненужных столбцов, таких как нумерция, чтобы модель не искала взаимосвязи с данным столбцом, который не несет в себе практической пользы и смысла в части предсказания цены финансового инструмента. "
   ]
  },
  {
   "cell_type": "code",
   "execution_count": 9,
   "id": "d6a82d90",
   "metadata": {},
   "outputs": [],
   "source": [
    "df = df.drop(['Unnamed: 0'], axis=1)"
   ]
  },
  {
   "cell_type": "markdown",
   "id": "9337f21b",
   "metadata": {},
   "source": [
    "Далее избавляемся от пропущенных значений: "
   ]
  },
  {
   "cell_type": "code",
   "execution_count": 11,
   "id": "3d991857",
   "metadata": {},
   "outputs": [
    {
     "name": "stdout",
     "output_type": "stream",
     "text": [
      "df_cleaned: (1471300, 7)\n"
     ]
    }
   ],
   "source": [
    "df = df.dropna()\n",
    "print(\"df_cleaned:\", df.shape)"
   ]
  },
  {
   "cell_type": "markdown",
   "id": "32e9e38f",
   "metadata": {},
   "source": [
    "Как было отмечено ранее, некоторые столбцы нуждаются в предобрзовании формата данны на числовой. Такие столбцы как \"trade_date\" и \"trade_time\" важны с точки зрения поиска закономерностей, но при этом для того, чтобы модель приняла их во внимание, нужно их формат с тип \"object\" изменить на более подходящий:  "
   ]
  },
  {
   "cell_type": "code",
   "execution_count": 14,
   "id": "78c9a6c2",
   "metadata": {},
   "outputs": [],
   "source": [
    "df['trade_date'] = pd.to_datetime(df.trade_date,format='%Y-%m-%d')"
   ]
  },
  {
   "cell_type": "code",
   "execution_count": 15,
   "id": "d6dfee09",
   "metadata": {},
   "outputs": [],
   "source": [
    "df['trade_date'] = df['trade_date'].apply(pd.Timestamp.timestamp)"
   ]
  },
  {
   "cell_type": "code",
   "execution_count": 16,
   "id": "bf74275c",
   "metadata": {},
   "outputs": [],
   "source": [
    "df['trade_time'] = pd.to_datetime(df.trade_time,format='%H:%M:%S')"
   ]
  },
  {
   "cell_type": "code",
   "execution_count": 17,
   "id": "5aa8ba38",
   "metadata": {},
   "outputs": [],
   "source": [
    "df['trade_time'] = df['trade_time'].apply(pd.Timestamp.toordinal)"
   ]
  },
  {
   "cell_type": "markdown",
   "id": "fd935532",
   "metadata": {},
   "source": [
    "## Разделение наборов данных на тестовые и обучающие "
   ]
  },
  {
   "cell_type": "markdown",
   "id": "3f3251fa",
   "metadata": {},
   "source": [
    "Для дальнейшего обучения модели требуется разделение наборов данных на тестовые и обучающие. Тестовый набор будет сохранен в переменной df_test, а тренировочный в переменной - df_train: "
   ]
  },
  {
   "cell_type": "code",
   "execution_count": 19,
   "id": "4ae7f35b",
   "metadata": {},
   "outputs": [
    {
     "name": "stdout",
     "output_type": "stream",
     "text": [
      "df_train: (1103475, 6)\n",
      "df_test: (367825, 6)\n"
     ]
    }
   ],
   "source": [
    "df_train, df_test = sklearn.model_selection.train_test_split(df)\n",
    "print(\"df_train:\", df_train.shape)\n",
    "print(\"df_test:\", df_test.shape)"
   ]
  },
  {
   "cell_type": "markdown",
   "id": "023a04dd",
   "metadata": {},
   "source": [
    "Также необходимо разделить полученные тренирвоочный и тестовый сеты на X и Y, чтобы передать эту структуру модели. Для этого оставляем в переменной X весь набор данных кроме целевой переменной \"ask\", а в переменной Y, наоборот, оставляем только переменную \"ask\" и в дельнейшем передадим ее модели как ту, которую надо предсказать, основываясь на данные X.  \n",
    "\n",
    "В результате выведен полученный объем строк и столбцов в разделенных наборах данных, где видно, что датасет X содержит в себе 5 столбцов, а датасет Y всего один: "
   ]
  },
  {
   "cell_type": "code",
   "execution_count": 20,
   "id": "38627330",
   "metadata": {},
   "outputs": [
    {
     "name": "stdout",
     "output_type": "stream",
     "text": [
      "x_train: (1103475, 5)\n",
      "y_train: (1103475,)\n",
      "x_test: (367825, 5)\n",
      "y_test: (367825,)\n"
     ]
    }
   ],
   "source": [
    "x_train = df_train.drop([\"ask\"], axis=1)\n",
    "y_train = df_train[\"ask\"]\n",
    "print(\"x_train:\", x_train.shape)\n",
    "print(\"y_train:\", y_train.shape)\n",
    "\n",
    "x_test = df_test.drop([\"ask\"], axis=1)\n",
    "y_test = df_test[\"ask\"]\n",
    "print(\"x_test:\", x_test.shape)\n",
    "print(\"y_test:\", y_test.shape)"
   ]
  },
  {
   "cell_type": "markdown",
   "id": "b31f3d7e",
   "metadata": {},
   "source": [
    "Чтобы в результате сформированного проекта по предстказанию цены финансового инструмента была возможность проверить на реальных данных корректность предстказаний и сравнить их с уже меющющимися, сформируем набор тестовый данных для предсказаний: "
   ]
  },
  {
   "cell_type": "code",
   "execution_count": 21,
   "id": "3834d225",
   "metadata": {},
   "outputs": [],
   "source": [
    "x_test_predict = df_test.drop([\"ask\"], axis=1)"
   ]
  },
  {
   "cell_type": "markdown",
   "id": "45417bca",
   "metadata": {},
   "source": [
    "## Нормализация значений"
   ]
  },
  {
   "cell_type": "markdown",
   "id": "b777d9f8",
   "metadata": {},
   "source": [
    "Нормализация — это подход, который применяется во время подготовки данных для изменения значений числовых столбцов в наборе данных для использования общей шкалы, когда объекты в данных имеют разные диапазоны. Учитывая, что на этапе обучения моделей глубокого обучения входные данные каждого слоя постоянно меняются, обучение таких моделей является сложной задачей и данные должны быть подготовлены заранее. Нормалиция значений проводится по шкале от 0 до 1. При этом нормализация проводится как для тренировочного, так и для тестового датасета, так как они оба будут участвовать в манипуляциях, производимых с модельью.       "
   ]
  },
  {
   "cell_type": "code",
   "execution_count": 22,
   "id": "4f98cad7",
   "metadata": {},
   "outputs": [],
   "source": [
    "df_train = df_train.values\n",
    "df_test = df_test.values"
   ]
  },
  {
   "cell_type": "code",
   "execution_count": 23,
   "id": "6ca92c21",
   "metadata": {},
   "outputs": [],
   "source": [
    "min_max = MinMaxScaler(feature_range=(0, 1))\n",
    "x_train = min_max.fit_transform(x_train)"
   ]
  },
  {
   "cell_type": "code",
   "execution_count": 24,
   "id": "3b3d6253",
   "metadata": {},
   "outputs": [],
   "source": [
    "min_max = MinMaxScaler(feature_range=(0, 1))\n",
    "x_test = min_max.fit_transform(x_test)"
   ]
  },
  {
   "cell_type": "markdown",
   "id": "d631dac9",
   "metadata": {},
   "source": [
    "После нормализации значений требуется трансформация формы наборов данных в трехмерное измерение для построения модели: "
   ]
  },
  {
   "cell_type": "code",
   "execution_count": 27,
   "id": "fb1493f7",
   "metadata": {},
   "outputs": [
    {
     "name": "stdout",
     "output_type": "stream",
     "text": [
      "x_train shape (1103475, 5, 1)\n",
      "x_test shape (367825, 5, 1)\n"
     ]
    }
   ],
   "source": [
    "x_train = x_train.reshape(x_train.shape[0], 5, 1)\n",
    "print (\"x_train shape\", x_train.shape)\n",
    "\n",
    "x_test = x_test.reshape(x_test.shape[0], 5, 1)\n",
    "print (\"x_test shape\", x_test.shape)"
   ]
  },
  {
   "cell_type": "markdown",
   "id": "34dd8618",
   "metadata": {},
   "source": [
    "## Построение модели глубокой нейронной сети"
   ]
  },
  {
   "cell_type": "markdown",
   "id": "e8cfab60",
   "metadata": {},
   "source": [
    "Для задачи, поставленной в рамках данного проекта, была выбрана модель глубокой нейронной сети LSTM (Long Short Term Memory). Сети с долговременной кратковременной памятью (LSTM) представляют собой тип рекуррентной нейронной сети, способной изучать зависимость порядка в задачах прогнозирования последовательности. Особенностью LSTM является то, что данная модель может выборочно \"забывать\" и \"запоминать\" последовательности и взаимосвязи. Основной стратегией LSTM является возможность \"оглянуться назад\" на отчеты о за предыдущие периоды. LSTM вводит единицы памяти, называемые состояниями ячеек, такие сконструированные ячейки можно рассматривать как дифференцируемую память."
   ]
  },
  {
   "cell_type": "code",
   "execution_count": 28,
   "id": "cc26c6a2",
   "metadata": {},
   "outputs": [
    {
     "name": "stderr",
     "output_type": "stream",
     "text": [
      "2022-07-05 04:35:54.915654: W tensorflow/stream_executor/platform/default/dso_loader.cc:64] Could not load dynamic library 'libcuda.so.1'; dlerror: libcuda.so.1: cannot open shared object file: No such file or directory\n",
      "2022-07-05 04:35:54.915685: W tensorflow/stream_executor/cuda/cuda_driver.cc:269] failed call to cuInit: UNKNOWN ERROR (303)\n",
      "2022-07-05 04:35:54.915709: I tensorflow/stream_executor/cuda/cuda_diagnostics.cc:156] kernel driver does not appear to be running on this host (Ubuntu-1804-bionic-64-minimal): /proc/driver/nvidia/version does not exist\n",
      "2022-07-05 04:35:54.915928: I tensorflow/core/platform/cpu_feature_guard.cc:142] This TensorFlow binary is optimized with oneAPI Deep Neural Network Library (oneDNN) to use the following CPU instructions in performance-critical operations:  AVX2 FMA\n",
      "To enable them in other operations, rebuild TensorFlow with the appropriate compiler flags.\n"
     ]
    },
    {
     "name": "stdout",
     "output_type": "stream",
     "text": [
      "Model: \"sequential\"\n",
      "_________________________________________________________________\n",
      "Layer (type)                 Output Shape              Param #   \n",
      "=================================================================\n",
      "lstm (LSTM)                  (None, 5, 100)            40800     \n",
      "_________________________________________________________________\n",
      "dropout (Dropout)            (None, 5, 100)            0         \n",
      "_________________________________________________________________\n",
      "lstm_1 (LSTM)                (None, 5, 50)             30200     \n",
      "_________________________________________________________________\n",
      "dropout_1 (Dropout)          (None, 5, 50)             0         \n",
      "_________________________________________________________________\n",
      "lstm_2 (LSTM)                (None, 5, 50)             20200     \n",
      "_________________________________________________________________\n",
      "dropout_2 (Dropout)          (None, 5, 50)             0         \n",
      "_________________________________________________________________\n",
      "lstm_3 (LSTM)                (None, 50)                20200     \n",
      "_________________________________________________________________\n",
      "dropout_3 (Dropout)          (None, 50)                0         \n",
      "_________________________________________________________________\n",
      "dense (Dense)                (None, 1)                 51        \n",
      "=================================================================\n",
      "Total params: 111,451\n",
      "Trainable params: 111,451\n",
      "Non-trainable params: 0\n",
      "_________________________________________________________________\n"
     ]
    }
   ],
   "source": [
    "\n",
    "model = Sequential()\n",
    "# 1-й слой с регуляризацией Dropout\n",
    "# * unit = добавить 100 нейронов — размерность выходного пространства\n",
    "# * return_sequences = True, чтобы сложить слои LSTM, чтобы следующий слой LSTM имел ввод трехмерной последовательности\n",
    "# * input_shape => Форма обучающего набора данных\n",
    "model.add(LSTM(units=100, return_sequences=True, input_shape=(x_train.shape[1],1)))\n",
    "# 20% слоев будут удалены\n",
    "model.add(Dropout(0.2))\n",
    "# 2-й слой LSTM\n",
    "# * unit = добавить 50 нейронов — размерность выходного пространства\n",
    "# * return_sequences = True, чтобы сложить слои LSTM, чтобы следующий слой LSTM имел ввод трехмерной последовательности\n",
    "model.add(LSTM(units=50, return_sequences=True))\n",
    "# 20% слоев будут удалены\n",
    "model.add(Dropout(0.2))\n",
    "# 3-й слой LSTM\n",
    "# * unit = добавить 50 нейронов — размерность выходного пространства\n",
    "# * return_sequences = True, чтобы сложить слои LSTM, чтобы следующий слой LSTM имел ввод трехмерной последовательности\n",
    "model.add(LSTM(units=50, return_sequences=True))\n",
    "# 50% слоев будут удалены\n",
    "model.add(Dropout(0.5))\n",
    "# 4-й слой LSTM\n",
    "# * unit = добавить 50 нейронов — размерность выходного пространства\n",
    "model.add(LSTM(units=50))\n",
    "# 50% слоев будут удалены\n",
    "model.add(Dropout(0.5))\n",
    "# Слой, указывающий вывод в одного unit\n",
    "model.add(Dense(units=1))\n",
    "# Вывод информации о сформированной модели \n",
    "model.summary()\n"
   ]
  },
  {
   "cell_type": "markdown",
   "id": "101dbe4a",
   "metadata": {},
   "source": [
    "В итоге получена модель глубокого обучения нейронной сети с 4-мя слоями и 111 451 параметрами. Данее необходимо определить метрики модели для оценки ее качества и предказательной способности. \n",
    "\n",
    "Учитывая, что изначальной целью проекта является предсказание цены финансового инструмента, то данную задачу стоит рассматривать как задачу регрессии для алгоритмов машинного обучения. Стандартные метрики для оценки модели регерсии это: \n",
    "- средний квадрат отклонений (mean_squared_error)\n",
    "- потери валидации (val_loss)\n",
    "\n",
    "Оба значения должны быть минимизированы, так как являются сумарным значением отклонений и ошибок, полученных при обучении и тестировании модели. "
   ]
  },
  {
   "cell_type": "code",
   "execution_count": 29,
   "id": "cb2431e7",
   "metadata": {},
   "outputs": [],
   "source": [
    "defined_metrics = [\n",
    "    tf.keras.metrics.MeanSquaredError(name='MSE')\n",
    "]\n",
    "\n",
    "callback = tf.keras.callbacks.EarlyStopping(monitor='val_loss', patience=3, mode='min', verbose=1)\n",
    "\n",
    "model.compile(optimizer='adam', loss='mean_squared_error', metrics=defined_metrics)"
   ]
  },
  {
   "cell_type": "markdown",
   "id": "c57e11a1",
   "metadata": {},
   "source": [
    "## Обучение и тестирование модели глубокой нейронной сети"
   ]
  },
  {
   "cell_type": "markdown",
   "id": "dc3e02ee",
   "metadata": {},
   "source": [
    "Финальный шаг в создании модели - это ее обучение на тренировочном наборе данныз и тестирование на тестовом наборе данных. В результате проведения данной манипуляции будет видна производительность модели и ее качество предсказания, а именно значения получившихся метрик качества (mean_squared_error, val_loss):  "
   ]
  },
  {
   "cell_type": "code",
   "execution_count": 30,
   "id": "96dbce63",
   "metadata": {},
   "outputs": [
    {
     "name": "stdout",
     "output_type": "stream",
     "text": [
      "Epoch 1/15\n"
     ]
    },
    {
     "name": "stderr",
     "output_type": "stream",
     "text": [
      "2022-07-05 04:35:55.585746: I tensorflow/compiler/mlir/mlir_graph_optimization_pass.cc:185] None of the MLIR Optimization Passes are enabled (registered 2)\n"
     ]
    },
    {
     "name": "stdout",
     "output_type": "stream",
     "text": [
      "110348/110348 [==============================] - 1480s 13ms/step - loss: 0.0647 - MSE: 0.0647 - val_loss: 0.0019 - val_MSE: 0.0019\n",
      "Epoch 2/15\n",
      "110348/110348 [==============================] - 1475s 13ms/step - loss: 0.0034 - MSE: 0.0034 - val_loss: 0.0025 - val_MSE: 0.0025\n",
      "Epoch 3/15\n",
      "110348/110348 [==============================] - 1478s 13ms/step - loss: 0.0031 - MSE: 0.0031 - val_loss: 0.0017 - val_MSE: 0.0017\n",
      "Epoch 4/15\n",
      "110348/110348 [==============================] - 1476s 13ms/step - loss: 0.0030 - MSE: 0.0030 - val_loss: 0.0018 - val_MSE: 0.0018\n",
      "Epoch 5/15\n",
      "110348/110348 [==============================] - 1478s 13ms/step - loss: 0.0029 - MSE: 0.0029 - val_loss: 0.0021 - val_MSE: 0.0021\n",
      "Epoch 6/15\n",
      "110348/110348 [==============================] - 1481s 13ms/step - loss: 0.0029 - MSE: 0.0029 - val_loss: 0.0019 - val_MSE: 0.0019\n",
      "Epoch 00006: early stopping\n"
     ]
    }
   ],
   "source": [
    "history = model.fit(x_train, \n",
    "                    y_train, \n",
    "                    epochs=15, \n",
    "                    batch_size=10, \n",
    "                    validation_data=(x_test, y_test),\n",
    "                    shuffle=True,\n",
    "                    callbacks=[callback])"
   ]
  },
  {
   "cell_type": "markdown",
   "id": "a216a4e6",
   "metadata": {},
   "source": [
    "Финальный результат тестирования модели показал довольно низкое отклонение и ошибку, равную 0,0019. Данная величина ошибки вполне приемлема и модель при таких низких ошибках должна показывать достаточно высокую предсказательную способность цены финансового инструмента. "
   ]
  },
  {
   "cell_type": "markdown",
   "id": "9fdd1bf8",
   "metadata": {},
   "source": [
    "## Предсказания модели"
   ]
  },
  {
   "cell_type": "markdown",
   "id": "78f8a259",
   "metadata": {},
   "source": [
    "В финале проекта построим таблицу с предсказаниями цены \"ask\"на основе построенной модели:"
   ]
  },
  {
   "cell_type": "code",
   "execution_count": 115,
   "id": "32a569ef",
   "metadata": {},
   "outputs": [],
   "source": [
    "predictions = model.predict(x_test)"
   ]
  },
  {
   "cell_type": "markdown",
   "id": "53779a79",
   "metadata": {},
   "source": [
    "Теперь для того, чтобы оценить реальный результат и увидеть способность модели более нагладяно сформируем таблицу, в которой покажем реальные данные из оригинального набора данных (тестовую часть, на которой модель не обучалась) и сопоставим с предсказаниями (столбец \"predictions\"):"
   ]
  },
  {
   "cell_type": "code",
   "execution_count": 116,
   "id": "0f3f98eb",
   "metadata": {},
   "outputs": [],
   "source": [
    "predictions = pd.DataFrame(predictions, columns=[\"predictions\"], index=x_test_predict.index)"
   ]
  },
  {
   "cell_type": "code",
   "execution_count": 118,
   "id": "84d6e2ea",
   "metadata": {},
   "outputs": [
    {
     "data": {
      "text/html": [
       "<div>\n",
       "<style scoped>\n",
       "    .dataframe tbody tr th:only-of-type {\n",
       "        vertical-align: middle;\n",
       "    }\n",
       "\n",
       "    .dataframe tbody tr th {\n",
       "        vertical-align: top;\n",
       "    }\n",
       "\n",
       "    .dataframe thead th {\n",
       "        text-align: right;\n",
       "    }\n",
       "</style>\n",
       "<table border=\"1\" class=\"dataframe\">\n",
       "  <thead>\n",
       "    <tr style=\"text-align: right;\">\n",
       "      <th></th>\n",
       "      <th>ask</th>\n",
       "      <th>predictions</th>\n",
       "    </tr>\n",
       "  </thead>\n",
       "  <tbody>\n",
       "    <tr>\n",
       "      <th>60039</th>\n",
       "      <td>6.10</td>\n",
       "      <td>6.125231</td>\n",
       "    </tr>\n",
       "    <tr>\n",
       "      <th>2785</th>\n",
       "      <td>6.20</td>\n",
       "      <td>6.190581</td>\n",
       "    </tr>\n",
       "    <tr>\n",
       "      <th>33453</th>\n",
       "      <td>5.23</td>\n",
       "      <td>5.208787</td>\n",
       "    </tr>\n",
       "    <tr>\n",
       "      <th>128640</th>\n",
       "      <td>6.18</td>\n",
       "      <td>6.139150</td>\n",
       "    </tr>\n",
       "    <tr>\n",
       "      <th>156788</th>\n",
       "      <td>6.32</td>\n",
       "      <td>6.314339</td>\n",
       "    </tr>\n",
       "    <tr>\n",
       "      <th>151128</th>\n",
       "      <td>5.83</td>\n",
       "      <td>5.818227</td>\n",
       "    </tr>\n",
       "    <tr>\n",
       "      <th>38528</th>\n",
       "      <td>5.85</td>\n",
       "      <td>5.825417</td>\n",
       "    </tr>\n",
       "    <tr>\n",
       "      <th>72515</th>\n",
       "      <td>5.69</td>\n",
       "      <td>5.696556</td>\n",
       "    </tr>\n",
       "    <tr>\n",
       "      <th>66677</th>\n",
       "      <td>6.10</td>\n",
       "      <td>6.109018</td>\n",
       "    </tr>\n",
       "    <tr>\n",
       "      <th>96017</th>\n",
       "      <td>5.84</td>\n",
       "      <td>5.827636</td>\n",
       "    </tr>\n",
       "  </tbody>\n",
       "</table>\n",
       "</div>"
      ],
      "text/plain": [
       "         ask  predictions\n",
       "60039   6.10     6.125231\n",
       "2785    6.20     6.190581\n",
       "33453   5.23     5.208787\n",
       "128640  6.18     6.139150\n",
       "156788  6.32     6.314339\n",
       "151128  5.83     5.818227\n",
       "38528   5.85     5.825417\n",
       "72515   5.69     5.696556\n",
       "66677   6.10     6.109018\n",
       "96017   5.84     5.827636"
      ]
     },
     "execution_count": 118,
     "metadata": {},
     "output_type": "execute_result"
    }
   ],
   "source": [
    "combination = pd.concat([x_test_predict[[\"ask\"]], predictions], axis=1)\n",
    "combination.sample(10)"
   ]
  },
  {
   "cell_type": "markdown",
   "id": "150e6e84",
   "metadata": {},
   "source": [
    "Для наглядности можно добавить столбец \"разница между реальным значением и предсказанием\", чтобы более наглядно было видно, насколько точно предстказывает модель:  "
   ]
  },
  {
   "cell_type": "code",
   "execution_count": 123,
   "id": "7187783e",
   "metadata": {},
   "outputs": [
    {
     "data": {
      "text/html": [
       "<div>\n",
       "<style scoped>\n",
       "    .dataframe tbody tr th:only-of-type {\n",
       "        vertical-align: middle;\n",
       "    }\n",
       "\n",
       "    .dataframe tbody tr th {\n",
       "        vertical-align: top;\n",
       "    }\n",
       "\n",
       "    .dataframe thead th {\n",
       "        text-align: right;\n",
       "    }\n",
       "</style>\n",
       "<table border=\"1\" class=\"dataframe\">\n",
       "  <thead>\n",
       "    <tr style=\"text-align: right;\">\n",
       "      <th></th>\n",
       "      <th>ask</th>\n",
       "      <th>predictions</th>\n",
       "      <th>разница между реальным значением и предсказанием</th>\n",
       "    </tr>\n",
       "  </thead>\n",
       "  <tbody>\n",
       "    <tr>\n",
       "      <th>64285</th>\n",
       "      <td>5.95</td>\n",
       "      <td>5.948954</td>\n",
       "      <td>0.001046</td>\n",
       "    </tr>\n",
       "    <tr>\n",
       "      <th>16147</th>\n",
       "      <td>5.30</td>\n",
       "      <td>5.219943</td>\n",
       "      <td>0.080057</td>\n",
       "    </tr>\n",
       "    <tr>\n",
       "      <th>121771</th>\n",
       "      <td>5.39</td>\n",
       "      <td>5.342470</td>\n",
       "      <td>0.047530</td>\n",
       "    </tr>\n",
       "    <tr>\n",
       "      <th>28646</th>\n",
       "      <td>6.15</td>\n",
       "      <td>6.156361</td>\n",
       "      <td>-0.006361</td>\n",
       "    </tr>\n",
       "    <tr>\n",
       "      <th>109779</th>\n",
       "      <td>6.04</td>\n",
       "      <td>5.995697</td>\n",
       "      <td>0.044303</td>\n",
       "    </tr>\n",
       "    <tr>\n",
       "      <th>40204</th>\n",
       "      <td>5.91</td>\n",
       "      <td>5.897795</td>\n",
       "      <td>0.012205</td>\n",
       "    </tr>\n",
       "    <tr>\n",
       "      <th>3161</th>\n",
       "      <td>6.20</td>\n",
       "      <td>6.183565</td>\n",
       "      <td>0.016435</td>\n",
       "    </tr>\n",
       "    <tr>\n",
       "      <th>83195</th>\n",
       "      <td>5.84</td>\n",
       "      <td>5.822773</td>\n",
       "      <td>0.017227</td>\n",
       "    </tr>\n",
       "    <tr>\n",
       "      <th>38433</th>\n",
       "      <td>5.91</td>\n",
       "      <td>5.932046</td>\n",
       "      <td>-0.022046</td>\n",
       "    </tr>\n",
       "    <tr>\n",
       "      <th>96957</th>\n",
       "      <td>5.95</td>\n",
       "      <td>5.950216</td>\n",
       "      <td>-0.000216</td>\n",
       "    </tr>\n",
       "  </tbody>\n",
       "</table>\n",
       "</div>"
      ],
      "text/plain": [
       "         ask  predictions  разница между реальным значением и предсказанием\n",
       "64285   5.95     5.948954                                          0.001046\n",
       "16147   5.30     5.219943                                          0.080057\n",
       "121771  5.39     5.342470                                          0.047530\n",
       "28646   6.15     6.156361                                         -0.006361\n",
       "109779  6.04     5.995697                                          0.044303\n",
       "40204   5.91     5.897795                                          0.012205\n",
       "3161    6.20     6.183565                                          0.016435\n",
       "83195   5.84     5.822773                                          0.017227\n",
       "38433   5.91     5.932046                                         -0.022046\n",
       "96957   5.95     5.950216                                         -0.000216"
      ]
     },
     "execution_count": 123,
     "metadata": {},
     "output_type": "execute_result"
    }
   ],
   "source": [
    "combination ['разница между реальным значением и предсказанием'] = combination [\"ask\"] - combination [\"predictions\"]\n",
    "combination.sample (10)"
   ]
  },
  {
   "cell_type": "markdown",
   "id": "5f79c598",
   "metadata": {},
   "source": [
    "## Выводы"
   ]
  },
  {
   "cell_type": "markdown",
   "id": "1c21c432",
   "metadata": {},
   "source": [
    "В рамках данного проекта были загружены и проанализированы данные финансовых показателей за некоторый промежуток времени. Финальной целью проекта являлось предсказание цены финансового инструмента, расположенной в столбце \"ask\". Для реализации данной цели была построена модель нейронной сети глубокого обучения и достигнут результат с высокой предсказательной способностью и средней квадратической ошибкой менее 0,002. \n",
    "\n",
    "Далее для имплементации данной модели в продуктив необходимо добавить переменную \"predictions\", сформированной на основании модели \"model\". Переменную \"predictions\" будет отображать предсказываемую цену в новом наборе данных, содержащих ту же структуру, что была отображена в настоящем проекте. Работа по имплементации модели в продуктив проводится дата-инженером. "
   ]
  }
 ],
 "metadata": {
  "kernelspec": {
   "display_name": "Python 3 (ipykernel)",
   "language": "python",
   "name": "python3"
  },
  "language_info": {
   "codemirror_mode": {
    "name": "ipython",
    "version": 3
   },
   "file_extension": ".py",
   "mimetype": "text/x-python",
   "name": "python",
   "nbconvert_exporter": "python",
   "pygments_lexer": "ipython3",
   "version": "3.8.12"
  }
 },
 "nbformat": 4,
 "nbformat_minor": 5
}
